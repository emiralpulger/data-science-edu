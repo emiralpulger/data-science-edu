{
 "cells": [
  {
   "cell_type": "code",
   "execution_count": 13,
   "id": "6ed5e595-1fab-49e6-b6c3-f6a9a002fc6e",
   "metadata": {},
   "outputs": [],
   "source": [
    "import numpy as np"
   ]
  },
  {
   "cell_type": "code",
   "execution_count": 14,
   "id": "5a72452d-211f-466b-ab62-fb441b0f2339",
   "metadata": {},
   "outputs": [],
   "source": [
    "a = [1,2,3,4]\n",
    "b = [2,3,4,5]"
   ]
  },
  {
   "cell_type": "code",
   "execution_count": 15,
   "id": "f5655bc5-3048-41e0-827d-cfcd631d7ac5",
   "metadata": {},
   "outputs": [],
   "source": [
    "a = np.array([1,2,3,4])\n",
    "b = np.array([2,3,4,5])\n",
    "# Array numpy kütüphanesinin bir veri tipidir. Liste metodunda birer birer tutulan sayıları toplu bir şekilde tutup veri tutma maliyetini azaltır."
   ]
  },
  {
   "cell_type": "code",
   "execution_count": 16,
   "id": "681d02c1-b0cf-4043-a810-c1b064994354",
   "metadata": {},
   "outputs": [
    {
     "data": {
      "text/plain": [
       "array([ 2,  6, 12, 20])"
      ]
     },
     "execution_count": 16,
     "metadata": {},
     "output_type": "execute_result"
    }
   ],
   "source": [
    "a * b \n",
    "# Karmaşık işlemleri daha kolay hale getirdi."
   ]
  },
  {
   "cell_type": "code",
   "execution_count": 8,
   "id": "7edc9b50-77d9-4d32-afde-ac1202329f53",
   "metadata": {},
   "outputs": [],
   "source": [
    "# Sıfırdan Array oluşturma"
   ]
  },
  {
   "cell_type": "code",
   "execution_count": 9,
   "id": "47033db5-7686-45df-8566-a5582b010034",
   "metadata": {},
   "outputs": [],
   "source": [
    "import numpy as np"
   ]
  },
  {
   "cell_type": "code",
   "execution_count": 17,
   "id": "7962c23f-bd58-4a62-846c-0b4070b23493",
   "metadata": {},
   "outputs": [
    {
     "data": {
      "text/plain": [
       "array([0, 0, 0, 0, 0, 0, 0])"
      ]
     },
     "execution_count": 17,
     "metadata": {},
     "output_type": "execute_result"
    }
   ],
   "source": [
    "np.zeros(7, dtype = int)\n",
    "# dtype default olarak float olan tipi başka bir tipe tanımlamamızı sağlar."
   ]
  },
  {
   "cell_type": "code",
   "execution_count": 11,
   "id": "5f224f0b-4fd2-4af1-9cc5-ed7a1375da42",
   "metadata": {},
   "outputs": [
    {
     "data": {
      "text/plain": [
       "array([[1, 1, 1, 1, 1, 1, 1, 1],\n",
       "       [1, 1, 1, 1, 1, 1, 1, 1],\n",
       "       [1, 1, 1, 1, 1, 1, 1, 1],\n",
       "       [1, 1, 1, 1, 1, 1, 1, 1],\n",
       "       [1, 1, 1, 1, 1, 1, 1, 1],\n",
       "       [1, 1, 1, 1, 1, 1, 1, 1],\n",
       "       [1, 1, 1, 1, 1, 1, 1, 1],\n",
       "       [1, 1, 1, 1, 1, 1, 1, 1]])"
      ]
     },
     "execution_count": 11,
     "metadata": {},
     "output_type": "execute_result"
    }
   ],
   "source": [
    "np.ones((8,8), dtype = int)"
   ]
  },
  {
   "cell_type": "code",
   "execution_count": 18,
   "id": "c6afa25f-d72e-4fa2-aaaf-0e87e3088af6",
   "metadata": {},
   "outputs": [
    {
     "data": {
      "text/plain": [
       "array([[7, 7, 7],\n",
       "       [7, 7, 7],\n",
       "       [7, 7, 7]])"
      ]
     },
     "execution_count": 18,
     "metadata": {},
     "output_type": "execute_result"
    }
   ],
   "source": [
    "np.full((3,3), 7)"
   ]
  },
  {
   "cell_type": "code",
   "execution_count": 20,
   "id": "bc4646a7-71f8-46ef-b987-cffe7bbb33ae",
   "metadata": {},
   "outputs": [
    {
     "data": {
      "text/plain": [
       "array([ 0,  3,  6,  9, 12, 15, 18, 21, 24, 27, 30, 33, 36, 39, 42, 45, 48,\n",
       "       51, 54, 57, 60, 63, 66, 69, 72, 75, 78, 81, 84, 87, 90, 93, 96])"
      ]
     },
     "execution_count": 20,
     "metadata": {},
     "output_type": "execute_result"
    }
   ],
   "source": [
    "np.arange(0,99, 3)"
   ]
  },
  {
   "cell_type": "code",
   "execution_count": 22,
   "id": "922e4f36-0cb5-4118-8bbe-fbc420684f1f",
   "metadata": {},
   "outputs": [
    {
     "data": {
      "text/plain": [
       "array([0.        , 0.11111111, 0.22222222, 0.33333333, 0.44444444,\n",
       "       0.55555556, 0.66666667, 0.77777778, 0.88888889, 1.        ])"
      ]
     },
     "execution_count": 22,
     "metadata": {},
     "output_type": "execute_result"
    }
   ],
   "source": [
    "np.linspace(0,1,10)"
   ]
  },
  {
   "cell_type": "code",
   "execution_count": 25,
   "id": "016040a0-ba71-4551-a7b6-165f9b639090",
   "metadata": {},
   "outputs": [
    {
     "data": {
      "text/plain": [
       "array([[ 12.67410853, -11.49291274,  29.4859397 ,  14.00716345],\n",
       "       [  6.0377927 ,  37.65064107,  14.10768656,  -1.53407553],\n",
       "       [ 24.35211198,  10.76324471,  18.54850998, -16.89111355]])"
      ]
     },
     "execution_count": 25,
     "metadata": {},
     "output_type": "execute_result"
    }
   ],
   "source": [
    "np.random.normal(10,12,(3,4))"
   ]
  },
  {
   "cell_type": "code",
   "execution_count": 26,
   "id": "ca305c8c-5b4c-4277-81ac-aa28d9841faf",
   "metadata": {},
   "outputs": [
    {
     "data": {
      "text/plain": [
       "array([[4, 6, 4, 6, 0],\n",
       "       [1, 5, 2, 5, 6],\n",
       "       [5, 8, 6, 2, 0]])"
      ]
     },
     "execution_count": 26,
     "metadata": {},
     "output_type": "execute_result"
    }
   ],
   "source": [
    "np.random.randint(0,10,(3,5))"
   ]
  },
  {
   "cell_type": "markdown",
   "id": "9a933c36-101b-4936-8c1a-6137d28ac20c",
   "metadata": {
    "tags": []
   },
   "source": [
    "# ÖZELLİKLER"
   ]
  },
  {
   "cell_type": "markdown",
   "id": "62391b64-95a9-4fe7-8a35-9cbd999da755",
   "metadata": {},
   "source": [
    "* **ndim**: boyut sayısı\n",
    "* **shape**: boyut bilgisi\n",
    "* **size**: toplam veri sayısı\n",
    "* **dtype**: array veri tipi"
   ]
  },
  {
   "cell_type": "code",
   "execution_count": 36,
   "id": "2706e007-b822-4195-aac4-3a10a6cc267e",
   "metadata": {},
   "outputs": [],
   "source": [
    "a = np.random.randint(10, size = 10)"
   ]
  },
  {
   "cell_type": "code",
   "execution_count": 37,
   "id": "add5be7f-425e-4b0c-8397-d2c444bbbaf2",
   "metadata": {},
   "outputs": [
    {
     "data": {
      "text/plain": [
       "1"
      ]
     },
     "execution_count": 37,
     "metadata": {},
     "output_type": "execute_result"
    }
   ],
   "source": [
    "a.ndim"
   ]
  },
  {
   "cell_type": "code",
   "execution_count": 38,
   "id": "750420dc-7b49-4294-a4a6-30e6434e8fe6",
   "metadata": {},
   "outputs": [
    {
     "data": {
      "text/plain": [
       "(10,)"
      ]
     },
     "execution_count": 38,
     "metadata": {},
     "output_type": "execute_result"
    }
   ],
   "source": [
    "a.shape"
   ]
  },
  {
   "cell_type": "code",
   "execution_count": 39,
   "id": "b7a66abc-c108-4189-ad28-8c57f8b85dc9",
   "metadata": {},
   "outputs": [
    {
     "data": {
      "text/plain": [
       "10"
      ]
     },
     "execution_count": 39,
     "metadata": {},
     "output_type": "execute_result"
    }
   ],
   "source": [
    "a.size"
   ]
  },
  {
   "cell_type": "code",
   "execution_count": 40,
   "id": "3bb7d800-06aa-45ba-8ef1-ed78ed213fc5",
   "metadata": {},
   "outputs": [
    {
     "data": {
      "text/plain": [
       "dtype('int32')"
      ]
     },
     "execution_count": 40,
     "metadata": {},
     "output_type": "execute_result"
    }
   ],
   "source": [
    "a.dtype"
   ]
  },
  {
   "cell_type": "code",
   "execution_count": 42,
   "id": "e8e1c121-4eaf-45b5-bab4-2cd53457b24e",
   "metadata": {},
   "outputs": [],
   "source": [
    "b = np.random.randint(8, size = (3,4))"
   ]
  },
  {
   "cell_type": "code",
   "execution_count": 43,
   "id": "8749de98-83d7-4d23-8520-3cee2fe586a7",
   "metadata": {},
   "outputs": [
    {
     "data": {
      "text/plain": [
       "2"
      ]
     },
     "execution_count": 43,
     "metadata": {},
     "output_type": "execute_result"
    }
   ],
   "source": [
    "b.ndim"
   ]
  },
  {
   "cell_type": "code",
   "execution_count": 44,
   "id": "0a612263-7b95-4e1e-8dce-61ff20c32b4f",
   "metadata": {},
   "outputs": [
    {
     "data": {
      "text/plain": [
       "(3, 4)"
      ]
     },
     "execution_count": 44,
     "metadata": {},
     "output_type": "execute_result"
    }
   ],
   "source": [
    "b.shape"
   ]
  },
  {
   "cell_type": "code",
   "execution_count": 45,
   "id": "6a47943a-3820-4670-bb85-3a00d1d62d99",
   "metadata": {},
   "outputs": [
    {
     "data": {
      "text/plain": [
       "12"
      ]
     },
     "execution_count": 45,
     "metadata": {},
     "output_type": "execute_result"
    }
   ],
   "source": [
    "b.size"
   ]
  },
  {
   "cell_type": "code",
   "execution_count": 46,
   "id": "84820005-3d40-43b1-8fa4-5ef147471ab5",
   "metadata": {},
   "outputs": [
    {
     "data": {
      "text/plain": [
       "dtype('int32')"
      ]
     },
     "execution_count": 46,
     "metadata": {},
     "output_type": "execute_result"
    }
   ],
   "source": [
    "b.dtype"
   ]
  },
  {
   "cell_type": "markdown",
   "id": "41ea382f-e9c5-4114-9506-298778c2002d",
   "metadata": {},
   "source": [
    "# Yeniden Şeklillendirme(reshaping)"
   ]
  },
  {
   "cell_type": "code",
   "execution_count": 47,
   "id": "cb5019dc-52e9-47b9-8eac-2b1a01e1af14",
   "metadata": {},
   "outputs": [
    {
     "data": {
      "text/plain": [
       "array([1, 2, 3, 4, 5, 6, 7, 8, 9])"
      ]
     },
     "execution_count": 47,
     "metadata": {},
     "output_type": "execute_result"
    }
   ],
   "source": [
    "np.arange(1,10)"
   ]
  },
  {
   "cell_type": "code",
   "execution_count": 49,
   "id": "61fa04f5-15db-40ef-a050-d5f194fcf40e",
   "metadata": {},
   "outputs": [
    {
     "data": {
      "text/plain": [
       "array([[1, 2, 3],\n",
       "       [4, 5, 6],\n",
       "       [7, 8, 9]])"
      ]
     },
     "execution_count": 49,
     "metadata": {},
     "output_type": "execute_result"
    }
   ],
   "source": [
    "np.arange(1,10).reshape((3,3))"
   ]
  },
  {
   "cell_type": "code",
   "execution_count": 50,
   "id": "bafaf601-5891-4ce2-a277-a0236e618f3e",
   "metadata": {},
   "outputs": [],
   "source": [
    "a = np.arange(1,10)"
   ]
  },
  {
   "cell_type": "code",
   "execution_count": 51,
   "id": "8cd3edaa-b20c-4e4d-ae13-89b0d9d08f49",
   "metadata": {},
   "outputs": [
    {
     "data": {
      "text/plain": [
       "array([1, 2, 3, 4, 5, 6, 7, 8, 9])"
      ]
     },
     "execution_count": 51,
     "metadata": {},
     "output_type": "execute_result"
    }
   ],
   "source": [
    "a"
   ]
  },
  {
   "cell_type": "code",
   "execution_count": 52,
   "id": "7a69bdf5-29dc-4621-98cf-9d28370836b0",
   "metadata": {},
   "outputs": [
    {
     "data": {
      "text/plain": [
       "1"
      ]
     },
     "execution_count": 52,
     "metadata": {},
     "output_type": "execute_result"
    }
   ],
   "source": [
    "a.ndim"
   ]
  },
  {
   "cell_type": "code",
   "execution_count": 53,
   "id": "d0633837-1fc9-4a42-93f3-a2ab2f145c05",
   "metadata": {},
   "outputs": [],
   "source": [
    "b = a.reshape((1,9))"
   ]
  },
  {
   "cell_type": "code",
   "execution_count": 54,
   "id": "002ef2c3-87c1-4c48-a041-dd9919b4852f",
   "metadata": {},
   "outputs": [
    {
     "data": {
      "text/plain": [
       "array([[1, 2, 3, 4, 5, 6, 7, 8, 9]])"
      ]
     },
     "execution_count": 54,
     "metadata": {},
     "output_type": "execute_result"
    }
   ],
   "source": [
    "b"
   ]
  },
  {
   "cell_type": "code",
   "execution_count": 55,
   "id": "fc84b53c-cfef-420c-8f19-eaa9c4642bce",
   "metadata": {},
   "outputs": [
    {
     "data": {
      "text/plain": [
       "2"
      ]
     },
     "execution_count": 55,
     "metadata": {},
     "output_type": "execute_result"
    }
   ],
   "source": [
    "b.ndim"
   ]
  },
  {
   "cell_type": "markdown",
   "id": "a1a029d6-0d54-48ac-9eda-518ee4e14738",
   "metadata": {},
   "source": [
    "# Array Birleştirme(Concatenation)"
   ]
  },
  {
   "cell_type": "code",
   "execution_count": 1,
   "id": "67d10b6e-1a34-4af6-b209-c1d5f0d1d89d",
   "metadata": {},
   "outputs": [],
   "source": [
    "import numpy as np"
   ]
  },
  {
   "cell_type": "code",
   "execution_count": 7,
   "id": "5e1cf206-d1ff-4cef-acf3-5e0e98473108",
   "metadata": {},
   "outputs": [],
   "source": [
    "x = np.array([1,2,3])\n",
    "y = np.array([4,5,6])"
   ]
  },
  {
   "cell_type": "code",
   "execution_count": 3,
   "id": "2085903d-de4b-4789-aa8c-2011e51f13a1",
   "metadata": {},
   "outputs": [
    {
     "data": {
      "text/plain": [
       "array([1, 2, 3, 4, 5, 6])"
      ]
     },
     "execution_count": 3,
     "metadata": {},
     "output_type": "execute_result"
    }
   ],
   "source": [
    "np.concatenate([x,y])"
   ]
  },
  {
   "cell_type": "code",
   "execution_count": 6,
   "id": "01323e03-4c87-4413-ae49-eccf12032018",
   "metadata": {},
   "outputs": [],
   "source": [
    "y = np.array([4,5,6])"
   ]
  },
  {
   "cell_type": "code",
   "execution_count": 5,
   "id": "ac665008-ddb2-478c-b56b-9e80c8f0447a",
   "metadata": {},
   "outputs": [],
   "source": [
    "z = np.array([7,8,9])"
   ]
  },
  {
   "cell_type": "code",
   "execution_count": 8,
   "id": "183c04e7-f7df-482a-8445-1d5785bf713e",
   "metadata": {},
   "outputs": [
    {
     "data": {
      "text/plain": [
       "array([1, 2, 3, 4, 5, 6, 7, 8, 9])"
      ]
     },
     "execution_count": 8,
     "metadata": {},
     "output_type": "execute_result"
    }
   ],
   "source": [
    "np.concatenate([x,y,z])"
   ]
  },
  {
   "cell_type": "code",
   "execution_count": 9,
   "id": "0e61b47e-a1c6-48a1-a44f-247455c199cb",
   "metadata": {},
   "outputs": [],
   "source": [
    "a = ([[1,2,3],\n",
    "     [4,5,6]])"
   ]
  },
  {
   "cell_type": "code",
   "execution_count": 10,
   "id": "df7dafd0-cd33-46e2-956f-821234d5c0f5",
   "metadata": {},
   "outputs": [
    {
     "data": {
      "text/plain": [
       "array([[1, 2, 3],\n",
       "       [4, 5, 6],\n",
       "       [1, 2, 3],\n",
       "       [4, 5, 6]])"
      ]
     },
     "execution_count": 10,
     "metadata": {},
     "output_type": "execute_result"
    }
   ],
   "source": [
    "np.concatenate([a,a])"
   ]
  },
  {
   "cell_type": "code",
   "execution_count": 13,
   "id": "1ad993c4-26d6-4b8e-90c1-47fa10534be0",
   "metadata": {},
   "outputs": [
    {
     "data": {
      "text/plain": [
       "array([[1, 2, 3, 1, 2, 3],\n",
       "       [4, 5, 6, 4, 5, 6]])"
      ]
     },
     "execution_count": 13,
     "metadata": {},
     "output_type": "execute_result"
    }
   ],
   "source": [
    "np.concatenate([a,a], axis = 1)\n",
    "# Satır, sütun bazında birleştime yapmak için axis argümanı kullanılır.\n",
    "# 0 satırları 1 sütünları ifade eder."
   ]
  },
  {
   "cell_type": "markdown",
   "id": "671eaea5-c9b9-4cff-bc5c-46cee2c24d5e",
   "metadata": {},
   "source": [
    "# Array ayırma(Splitting)"
   ]
  },
  {
   "cell_type": "code",
   "execution_count": 50,
   "id": "3354091c-bce6-44bc-b53c-8dc0c9faa5b0",
   "metadata": {},
   "outputs": [],
   "source": [
    "import numpy as np"
   ]
  },
  {
   "cell_type": "code",
   "execution_count": 51,
   "id": "c5e269cc-285f-4041-a82c-ea56119a5335",
   "metadata": {},
   "outputs": [],
   "source": [
    "x = np.array([1,2,3,99,99,3,2,1])"
   ]
  },
  {
   "cell_type": "code",
   "execution_count": 15,
   "id": "c05c865b-4e4a-472e-a1da-6c829ddeeee0",
   "metadata": {},
   "outputs": [
    {
     "data": {
      "text/plain": [
       "[array([1, 2, 3]), array([99, 99]), array([3, 2, 1])]"
      ]
     },
     "execution_count": 15,
     "metadata": {},
     "output_type": "execute_result"
    }
   ],
   "source": [
    "np.split(x, [3,5])"
   ]
  },
  {
   "cell_type": "code",
   "execution_count": 16,
   "id": "e11e8478-4faf-433f-9608-d4c9eede538b",
   "metadata": {},
   "outputs": [],
   "source": [
    "a,b,c = np.split(x, [3,5])"
   ]
  },
  {
   "cell_type": "code",
   "execution_count": 17,
   "id": "0a447070-6f0f-4b64-921b-4ec2f2361806",
   "metadata": {},
   "outputs": [
    {
     "data": {
      "text/plain": [
       "array([1, 2, 3])"
      ]
     },
     "execution_count": 17,
     "metadata": {},
     "output_type": "execute_result"
    }
   ],
   "source": [
    "a"
   ]
  },
  {
   "cell_type": "code",
   "execution_count": 18,
   "id": "53075705-5f4d-447b-aa30-7b614bc8c78d",
   "metadata": {},
   "outputs": [
    {
     "data": {
      "text/plain": [
       "array([99, 99])"
      ]
     },
     "execution_count": 18,
     "metadata": {},
     "output_type": "execute_result"
    }
   ],
   "source": [
    "b"
   ]
  },
  {
   "cell_type": "code",
   "execution_count": 19,
   "id": "1821d1f8-db80-4215-a99d-6e1aef3ca1af",
   "metadata": {},
   "outputs": [
    {
     "data": {
      "text/plain": [
       "array([3, 2, 1])"
      ]
     },
     "execution_count": 19,
     "metadata": {},
     "output_type": "execute_result"
    }
   ],
   "source": [
    "c"
   ]
  },
  {
   "cell_type": "code",
   "execution_count": null,
   "id": "b169f4c6-1f68-400a-b0e3-a88e6ba8c612",
   "metadata": {},
   "outputs": [],
   "source": [
    "# iki boyutlu ayırma"
   ]
  },
  {
   "cell_type": "code",
   "execution_count": 21,
   "id": "12425380-d20e-40a8-836e-d50be1a7d048",
   "metadata": {},
   "outputs": [
    {
     "data": {
      "text/plain": [
       "array([[ 0,  1,  2,  3],\n",
       "       [ 4,  5,  6,  7],\n",
       "       [ 8,  9, 10, 11],\n",
       "       [12, 13, 14, 15]])"
      ]
     },
     "execution_count": 21,
     "metadata": {},
     "output_type": "execute_result"
    }
   ],
   "source": [
    "m = np.arange(16).reshape(4,4)\n",
    "m"
   ]
  },
  {
   "cell_type": "code",
   "execution_count": 22,
   "id": "bef8f092-cf00-4d3d-b8d5-57180ea237ae",
   "metadata": {},
   "outputs": [
    {
     "data": {
      "text/plain": [
       "[array([[0, 1, 2, 3],\n",
       "        [4, 5, 6, 7]]),\n",
       " array([[ 8,  9, 10, 11],\n",
       "        [12, 13, 14, 15]])]"
      ]
     },
     "execution_count": 22,
     "metadata": {},
     "output_type": "execute_result"
    }
   ],
   "source": [
    "np.vsplit(m, [2])"
   ]
  },
  {
   "cell_type": "code",
   "execution_count": 23,
   "id": "6e1b966e-86cc-407f-b754-13539ef7e9d2",
   "metadata": {},
   "outputs": [],
   "source": [
    "ust, alt = np.vsplit(m, [2])"
   ]
  },
  {
   "cell_type": "code",
   "execution_count": 24,
   "id": "8de396f4-1ba7-4ac9-8a42-3ec0c3ed0002",
   "metadata": {},
   "outputs": [
    {
     "data": {
      "text/plain": [
       "array([[0, 1, 2, 3],\n",
       "       [4, 5, 6, 7]])"
      ]
     },
     "execution_count": 24,
     "metadata": {},
     "output_type": "execute_result"
    }
   ],
   "source": [
    "ust"
   ]
  },
  {
   "cell_type": "code",
   "execution_count": 25,
   "id": "50216245-3868-495e-9480-941c3c1917d5",
   "metadata": {},
   "outputs": [
    {
     "data": {
      "text/plain": [
       "array([[ 8,  9, 10, 11],\n",
       "       [12, 13, 14, 15]])"
      ]
     },
     "execution_count": 25,
     "metadata": {},
     "output_type": "execute_result"
    }
   ],
   "source": [
    "alt"
   ]
  },
  {
   "cell_type": "code",
   "execution_count": 26,
   "id": "eabffe9c-c4c3-4592-84b0-1b394dcee33e",
   "metadata": {},
   "outputs": [
    {
     "data": {
      "text/plain": [
       "[array([[ 0,  1],\n",
       "        [ 4,  5],\n",
       "        [ 8,  9],\n",
       "        [12, 13]]),\n",
       " array([[ 2,  3],\n",
       "        [ 6,  7],\n",
       "        [10, 11],\n",
       "        [14, 15]])]"
      ]
     },
     "execution_count": 26,
     "metadata": {},
     "output_type": "execute_result"
    }
   ],
   "source": [
    "np.hsplit(m, [2])"
   ]
  },
  {
   "cell_type": "code",
   "execution_count": 27,
   "id": "e552a2d2-139f-49d4-8327-c536242d53af",
   "metadata": {},
   "outputs": [],
   "source": [
    "sag, sol = np.hsplit(m, [2])"
   ]
  },
  {
   "cell_type": "code",
   "execution_count": 28,
   "id": "49345dc9-667b-459a-a25d-c0847b0bd249",
   "metadata": {},
   "outputs": [
    {
     "data": {
      "text/plain": [
       "array([[ 0,  1],\n",
       "       [ 4,  5],\n",
       "       [ 8,  9],\n",
       "       [12, 13]])"
      ]
     },
     "execution_count": 28,
     "metadata": {},
     "output_type": "execute_result"
    }
   ],
   "source": [
    "sag"
   ]
  },
  {
   "cell_type": "code",
   "execution_count": 29,
   "id": "ad294927-35e8-4ce3-98a2-0b7f04b3f3c9",
   "metadata": {},
   "outputs": [
    {
     "data": {
      "text/plain": [
       "array([[ 2,  3],\n",
       "       [ 6,  7],\n",
       "       [10, 11],\n",
       "       [14, 15]])"
      ]
     },
     "execution_count": 29,
     "metadata": {},
     "output_type": "execute_result"
    }
   ],
   "source": [
    "sol"
   ]
  },
  {
   "cell_type": "markdown",
   "id": "3ed95fd0-188e-4227-846a-979eadf80a6e",
   "metadata": {},
   "source": [
    "# Sıralama(Sorting)"
   ]
  },
  {
   "cell_type": "code",
   "execution_count": 30,
   "id": "ff8ada23-46a9-4c01-b3ae-b46f60728bf7",
   "metadata": {},
   "outputs": [
    {
     "data": {
      "text/plain": [
       "array([1, 8, 5, 9, 6, 8, 1, 5, 5, 1])"
      ]
     },
     "execution_count": 30,
     "metadata": {},
     "output_type": "execute_result"
    }
   ],
   "source": [
    "v = np.array([1,8,5,9,6,8,1,5,5,1])\n",
    "v"
   ]
  },
  {
   "cell_type": "code",
   "execution_count": 31,
   "id": "711fc559-aa8e-4441-bbad-d2cfae1ff6ad",
   "metadata": {},
   "outputs": [
    {
     "data": {
      "text/plain": [
       "array([1, 1, 1, 5, 5, 5, 6, 8, 8, 9])"
      ]
     },
     "execution_count": 31,
     "metadata": {},
     "output_type": "execute_result"
    }
   ],
   "source": [
    "np.sort(v)"
   ]
  },
  {
   "cell_type": "code",
   "execution_count": 34,
   "id": "260b088e-83c7-4fe6-b898-99ccd4a843c0",
   "metadata": {},
   "outputs": [],
   "source": [
    "v.sort()\n",
    "# Bu sort fonksiyonu veri setinin formunu değiştirdi. "
   ]
  },
  {
   "cell_type": "code",
   "execution_count": 33,
   "id": "4f114753-5f1f-4b88-87c9-03c7840a5dec",
   "metadata": {},
   "outputs": [
    {
     "data": {
      "text/plain": [
       "array([1, 1, 1, 5, 5, 5, 6, 8, 8, 9])"
      ]
     },
     "execution_count": 33,
     "metadata": {},
     "output_type": "execute_result"
    }
   ],
   "source": [
    "v"
   ]
  },
  {
   "cell_type": "code",
   "execution_count": null,
   "id": "0628ab91-3954-40ff-a75a-982fbec3a4fb",
   "metadata": {},
   "outputs": [],
   "source": [
    "# Hatırlatma \n",
    "# np.random.normal(ortalama,standart sapma, matris)"
   ]
  },
  {
   "cell_type": "code",
   "execution_count": 35,
   "id": "9dcf48ee-adef-488d-81a4-1cdbfd0faefd",
   "metadata": {},
   "outputs": [
    {
     "data": {
      "text/plain": [
       "array([[22.98932603,  4.13480729, 22.20290731],\n",
       "       [18.18283546, 18.47485415, 18.60106059],\n",
       "       [14.349352  , 24.29221866, 14.42014766]])"
      ]
     },
     "execution_count": 35,
     "metadata": {},
     "output_type": "execute_result"
    }
   ],
   "source": [
    "m = np.random.normal(20,5, (3,3))\n",
    "m"
   ]
  },
  {
   "cell_type": "code",
   "execution_count": 36,
   "id": "9259eec1-8e18-462e-aed9-decaf7c035e9",
   "metadata": {},
   "outputs": [
    {
     "data": {
      "text/plain": [
       "array([[ 4.13480729, 22.20290731, 22.98932603],\n",
       "       [18.18283546, 18.47485415, 18.60106059],\n",
       "       [14.349352  , 14.42014766, 24.29221866]])"
      ]
     },
     "execution_count": 36,
     "metadata": {},
     "output_type": "execute_result"
    }
   ],
   "source": [
    "np.sort(m, axis = 1)"
   ]
  },
  {
   "cell_type": "code",
   "execution_count": 37,
   "id": "21256c86-fb36-492d-b57b-17110354fbf6",
   "metadata": {},
   "outputs": [
    {
     "data": {
      "text/plain": [
       "array([[14.349352  ,  4.13480729, 14.42014766],\n",
       "       [18.18283546, 18.47485415, 18.60106059],\n",
       "       [22.98932603, 24.29221866, 22.20290731]])"
      ]
     },
     "execution_count": 37,
     "metadata": {},
     "output_type": "execute_result"
    }
   ],
   "source": [
    "np.sort(m, axis = 0)"
   ]
  },
  {
   "cell_type": "markdown",
   "id": "dbeef46a-aa04-4791-9582-44f4997c032a",
   "metadata": {},
   "source": [
    "# İndex ile elemanlara erişmek"
   ]
  },
  {
   "cell_type": "code",
   "execution_count": 38,
   "id": "691aa885-3416-4e03-bc8b-bf159004c705",
   "metadata": {},
   "outputs": [
    {
     "data": {
      "text/plain": [
       "array([6, 0, 4, 3, 9, 7, 3, 2, 9, 4])"
      ]
     },
     "execution_count": 38,
     "metadata": {},
     "output_type": "execute_result"
    }
   ],
   "source": [
    "a = np.random.randint(10, size = 10)\n",
    "a"
   ]
  },
  {
   "cell_type": "code",
   "execution_count": 39,
   "id": "690ddc44-12f5-4256-b3af-b74b60f1efd1",
   "metadata": {},
   "outputs": [
    {
     "data": {
      "text/plain": [
       "6"
      ]
     },
     "execution_count": 39,
     "metadata": {},
     "output_type": "execute_result"
    }
   ],
   "source": [
    "a[0]"
   ]
  },
  {
   "cell_type": "code",
   "execution_count": 40,
   "id": "7cc3411a-6675-41d2-9416-d405f1489c70",
   "metadata": {},
   "outputs": [
    {
     "data": {
      "text/plain": [
       "4"
      ]
     },
     "execution_count": 40,
     "metadata": {},
     "output_type": "execute_result"
    }
   ],
   "source": [
    "a[-1]"
   ]
  },
  {
   "cell_type": "code",
   "execution_count": 45,
   "id": "799e9dcb-909d-4f11-a471-6374b92b9470",
   "metadata": {},
   "outputs": [
    {
     "data": {
      "text/plain": [
       "array([[6, 0, 3, 8, 7],\n",
       "       [1, 1, 2, 9, 7],\n",
       "       [5, 8, 9, 2, 1]])"
      ]
     },
     "execution_count": 45,
     "metadata": {},
     "output_type": "execute_result"
    }
   ],
   "source": [
    "m = np.random.randint(10, size = (3,5))\n",
    "m"
   ]
  },
  {
   "cell_type": "code",
   "execution_count": 46,
   "id": "a58adf32-c320-4277-bb7b-4769302b7a8e",
   "metadata": {},
   "outputs": [
    {
     "data": {
      "text/plain": [
       "array([1, 1, 2, 9, 7])"
      ]
     },
     "execution_count": 46,
     "metadata": {},
     "output_type": "execute_result"
    }
   ],
   "source": [
    "m[1]"
   ]
  },
  {
   "cell_type": "code",
   "execution_count": 47,
   "id": "15fdd9b4-3bdb-45d1-8f39-943cab7c0474",
   "metadata": {},
   "outputs": [
    {
     "data": {
      "text/plain": [
       "1"
      ]
     },
     "execution_count": 47,
     "metadata": {},
     "output_type": "execute_result"
    }
   ],
   "source": [
    "m[1,1]"
   ]
  },
  {
   "cell_type": "code",
   "execution_count": 48,
   "id": "87c2a5a8-42c4-4c7d-bacc-9698a714f4a6",
   "metadata": {},
   "outputs": [],
   "source": [
    "m[1,4] = 55"
   ]
  },
  {
   "cell_type": "code",
   "execution_count": 49,
   "id": "26039690-d82a-4294-bc7d-805a10c443e0",
   "metadata": {},
   "outputs": [
    {
     "data": {
      "text/plain": [
       "array([[ 6,  0,  3,  8,  7],\n",
       "       [ 1,  1,  2,  9, 55],\n",
       "       [ 5,  8,  9,  2,  1]])"
      ]
     },
     "execution_count": 49,
     "metadata": {},
     "output_type": "execute_result"
    }
   ],
   "source": [
    "m"
   ]
  },
  {
   "cell_type": "code",
   "execution_count": 52,
   "id": "eca2589c-80c7-48f6-88a0-411379071e1f",
   "metadata": {},
   "outputs": [],
   "source": [
    "m[1,3] = 2.2"
   ]
  },
  {
   "cell_type": "code",
   "execution_count": 54,
   "id": "afedb18f-227a-440d-b0a0-388cd607233a",
   "metadata": {},
   "outputs": [
    {
     "data": {
      "text/plain": [
       "array([[ 6,  0,  3,  8,  7],\n",
       "       [ 1,  1,  2,  2, 55],\n",
       "       [ 5,  8,  9,  2,  1]])"
      ]
     },
     "execution_count": 54,
     "metadata": {},
     "output_type": "execute_result"
    }
   ],
   "source": [
    "m"
   ]
  },
  {
   "cell_type": "markdown",
   "id": "6eee8064-42b4-4319-8428-3e601dfde1c3",
   "metadata": {},
   "source": [
    "# Sciling ile Elemanlara Erişmek"
   ]
  },
  {
   "cell_type": "code",
   "execution_count": 55,
   "id": "ebc38d44-bf6e-4a7f-acd6-25d077c4d5ea",
   "metadata": {},
   "outputs": [
    {
     "data": {
      "text/plain": [
       "array([20, 21, 22, 23, 24, 25, 26, 27, 28, 29])"
      ]
     },
     "execution_count": 55,
     "metadata": {},
     "output_type": "execute_result"
    }
   ],
   "source": [
    "a = np.arange(20,30)\n",
    "a"
   ]
  },
  {
   "cell_type": "code",
   "execution_count": 56,
   "id": "c514bc05-423f-4fde-b4bb-1bb61565bae6",
   "metadata": {},
   "outputs": [
    {
     "data": {
      "text/plain": [
       "array([20, 21, 22])"
      ]
     },
     "execution_count": 56,
     "metadata": {},
     "output_type": "execute_result"
    }
   ],
   "source": [
    "a[0:3]"
   ]
  },
  {
   "cell_type": "code",
   "execution_count": 57,
   "id": "8db0c6cc-75f4-4943-8dda-7abc7eb5e0e6",
   "metadata": {},
   "outputs": [
    {
     "data": {
      "text/plain": [
       "array([21, 23, 25, 27, 29])"
      ]
     },
     "execution_count": 57,
     "metadata": {},
     "output_type": "execute_result"
    }
   ],
   "source": [
    "a[1::2]"
   ]
  },
  {
   "cell_type": "code",
   "execution_count": null,
   "id": "8ab96b48-ea03-468e-9672-819b0ff48a03",
   "metadata": {},
   "outputs": [],
   "source": [
    "# iki boyutlu slice işlemleri"
   ]
  },
  {
   "cell_type": "code",
   "execution_count": 60,
   "id": "5ff59f73-0f39-4edc-90dc-b90e5d5ec992",
   "metadata": {},
   "outputs": [
    {
     "data": {
      "text/plain": [
       "array([[7, 6, 1, 4, 2],\n",
       "       [4, 1, 4, 5, 9],\n",
       "       [5, 2, 5, 9, 8],\n",
       "       [0, 8, 8, 1, 1],\n",
       "       [6, 6, 9, 7, 8]])"
      ]
     },
     "execution_count": 60,
     "metadata": {},
     "output_type": "execute_result"
    }
   ],
   "source": [
    "m = np.random.randint(10, size = (5,5))\n",
    "m"
   ]
  },
  {
   "cell_type": "code",
   "execution_count": 62,
   "id": "def5fe5d-c80e-4241-a546-fb1f03f26733",
   "metadata": {},
   "outputs": [
    {
     "data": {
      "text/plain": [
       "array([2, 9, 8, 1, 8])"
      ]
     },
     "execution_count": 62,
     "metadata": {},
     "output_type": "execute_result"
    }
   ],
   "source": [
    "m[:,4]"
   ]
  },
  {
   "cell_type": "code",
   "execution_count": 63,
   "id": "5934d444-7b4e-42fb-a3b8-4edadfdaeae5",
   "metadata": {},
   "outputs": [
    {
     "data": {
      "text/plain": [
       "array([7, 6, 1, 4, 2])"
      ]
     },
     "execution_count": 63,
     "metadata": {},
     "output_type": "execute_result"
    }
   ],
   "source": [
    "m[0,:]"
   ]
  },
  {
   "cell_type": "markdown",
   "id": "f4c8f149-34e9-4333-99c3-ca841e87ec47",
   "metadata": {},
   "source": [
    "# Alt küme üzerinde işlem yapmak "
   ]
  },
  {
   "cell_type": "code",
   "execution_count": 66,
   "id": "f4be924c-92a0-4f6e-90a3-6f51e8da587d",
   "metadata": {},
   "outputs": [
    {
     "data": {
      "text/plain": [
       "array([[7, 8, 2, 6, 7],\n",
       "       [3, 7, 6, 9, 4],\n",
       "       [7, 2, 4, 7, 7],\n",
       "       [3, 8, 0, 6, 3],\n",
       "       [5, 2, 9, 7, 3]])"
      ]
     },
     "execution_count": 66,
     "metadata": {},
     "output_type": "execute_result"
    }
   ],
   "source": [
    "a = np.random.randint(10, size = (5,5))\n",
    "a"
   ]
  },
  {
   "cell_type": "code",
   "execution_count": 67,
   "id": "458ea2cf-dba7-42ec-829e-5dbfd3300512",
   "metadata": {},
   "outputs": [
    {
     "data": {
      "text/plain": [
       "array([[7, 8],\n",
       "       [3, 7],\n",
       "       [7, 2]])"
      ]
     },
     "execution_count": 67,
     "metadata": {},
     "output_type": "execute_result"
    }
   ],
   "source": [
    "alt_a = a[0:3,0:2]\n",
    "alt_a"
   ]
  },
  {
   "cell_type": "code",
   "execution_count": 69,
   "id": "089c9f05-3d87-4c4c-8480-92e3cf8d215d",
   "metadata": {},
   "outputs": [],
   "source": [
    "alt_a[0,0] = 7777\n",
    "alt_a[1,1] = 1111"
   ]
  },
  {
   "cell_type": "code",
   "execution_count": 70,
   "id": "3bb7888c-34e4-4f34-b8d2-61d9c5f0ef22",
   "metadata": {},
   "outputs": [
    {
     "data": {
      "text/plain": [
       "array([[7777,    8],\n",
       "       [   3, 1111],\n",
       "       [   7,    2]])"
      ]
     },
     "execution_count": 70,
     "metadata": {},
     "output_type": "execute_result"
    }
   ],
   "source": [
    "alt_a"
   ]
  },
  {
   "cell_type": "code",
   "execution_count": 71,
   "id": "46b5188b-a41e-41de-97fb-60b9ae1e0ec9",
   "metadata": {},
   "outputs": [
    {
     "data": {
      "text/plain": [
       "array([[7777,    8,    2,    6,    7],\n",
       "       [   3, 1111,    6,    9,    4],\n",
       "       [   7,    2,    4,    7,    7],\n",
       "       [   3,    8,    0,    6,    3],\n",
       "       [   5,    2,    9,    7,    3]])"
      ]
     },
     "execution_count": 71,
     "metadata": {},
     "output_type": "execute_result"
    }
   ],
   "source": [
    "a"
   ]
  },
  {
   "cell_type": "code",
   "execution_count": null,
   "id": "199c6f84-3f01-49d7-94bf-8bfc5a3040f0",
   "metadata": {},
   "outputs": [],
   "source": [
    "# buradaki önemli nokta alt kümelerde işlem yaparken toplam kümeyi etkilemesi."
   ]
  },
  {
   "cell_type": "code",
   "execution_count": 72,
   "id": "0e38efe1-ce2f-42ae-8f2d-8691b4105a27",
   "metadata": {},
   "outputs": [
    {
     "data": {
      "text/plain": [
       "array([[0, 2, 7, 6, 9],\n",
       "       [4, 8, 8, 8, 1],\n",
       "       [2, 2, 1, 1, 4],\n",
       "       [6, 8, 8, 7, 8],\n",
       "       [7, 3, 6, 5, 2]])"
      ]
     },
     "execution_count": 72,
     "metadata": {},
     "output_type": "execute_result"
    }
   ],
   "source": [
    "m = np.random.randint(10, size = (5,5))\n",
    "m"
   ]
  },
  {
   "cell_type": "code",
   "execution_count": 74,
   "id": "b5c7a8e4-4101-4313-9684-f1778a2ada43",
   "metadata": {},
   "outputs": [
    {
     "data": {
      "text/plain": [
       "array([[0, 2],\n",
       "       [4, 8],\n",
       "       [2, 2]])"
      ]
     },
     "execution_count": 74,
     "metadata": {},
     "output_type": "execute_result"
    }
   ],
   "source": [
    "alt_b = m[0:3, 0:2].copy()\n",
    "alt_b"
   ]
  },
  {
   "cell_type": "code",
   "execution_count": 75,
   "id": "4681f86f-5ae5-4025-b51a-994137e28325",
   "metadata": {},
   "outputs": [],
   "source": [
    "alt_b[0,0] = 7777"
   ]
  },
  {
   "cell_type": "code",
   "execution_count": 76,
   "id": "93db5164-7759-42d6-ab52-175d0dade27e",
   "metadata": {},
   "outputs": [
    {
     "data": {
      "text/plain": [
       "array([[7777,    2],\n",
       "       [   4,    8],\n",
       "       [   2,    2]])"
      ]
     },
     "execution_count": 76,
     "metadata": {},
     "output_type": "execute_result"
    }
   ],
   "source": [
    "alt_b"
   ]
  },
  {
   "cell_type": "code",
   "execution_count": 77,
   "id": "b122006c-e2e5-4cd8-a879-ee4c371b6f8f",
   "metadata": {},
   "outputs": [
    {
     "data": {
      "text/plain": [
       "array([[0, 2, 7, 6, 9],\n",
       "       [4, 8, 8, 8, 1],\n",
       "       [2, 2, 1, 1, 4],\n",
       "       [6, 8, 8, 7, 8],\n",
       "       [7, 3, 6, 5, 2]])"
      ]
     },
     "execution_count": 77,
     "metadata": {},
     "output_type": "execute_result"
    }
   ],
   "source": [
    "m"
   ]
  },
  {
   "cell_type": "code",
   "execution_count": null,
   "id": "4636efb8-f5df-4140-9151-0124d3396686",
   "metadata": {},
   "outputs": [],
   "source": [
    "# görüldüğü gibi copy işlemi ana kümeden bağımsız işlem yaptırır."
   ]
  },
  {
   "cell_type": "markdown",
   "id": "6abce37c-8231-428c-8a2e-678c25dcb135",
   "metadata": {},
   "source": [
    "# Fancy ile İndex Elemanlarına Erişmek"
   ]
  },
  {
   "cell_type": "code",
   "execution_count": 2,
   "id": "fec42941-0120-4d5b-ba10-03738b6ae9de",
   "metadata": {},
   "outputs": [
    {
     "data": {
      "text/plain": [
       "array([ 0,  3,  6,  9, 12, 15, 18, 21, 24, 27])"
      ]
     },
     "execution_count": 2,
     "metadata": {},
     "output_type": "execute_result"
    }
   ],
   "source": [
    "import numpy as np\n",
    "v = np.arange(0,30,3)\n",
    "v"
   ]
  },
  {
   "cell_type": "code",
   "execution_count": 5,
   "id": "609c04c9-bf04-4d39-9997-df7d16e355bd",
   "metadata": {},
   "outputs": [],
   "source": [
    "al_getir = [5,6,7]"
   ]
  },
  {
   "cell_type": "code",
   "execution_count": 7,
   "id": "f1e7d1cd-3a19-4ced-8c54-28a8ad0ffc29",
   "metadata": {},
   "outputs": [
    {
     "data": {
      "text/plain": [
       "array([15, 18, 21])"
      ]
     },
     "execution_count": 7,
     "metadata": {},
     "output_type": "execute_result"
    }
   ],
   "source": [
    "v[al_getir]\n",
    "# görüldüğü gibi v listesinden belirtilen dosyaları çekmek için fancy index kullanımı"
   ]
  },
  {
   "cell_type": "code",
   "execution_count": null,
   "id": "a69f1733-50f5-403a-a112-df1ab165efbc",
   "metadata": {},
   "outputs": [],
   "source": [
    "# iki boyutta fancy index kullanımı"
   ]
  },
  {
   "cell_type": "code",
   "execution_count": 9,
   "id": "37a81e3c-a27b-47b6-b0f0-36679da2988e",
   "metadata": {},
   "outputs": [
    {
     "data": {
      "text/plain": [
       "array([[0, 1, 2],\n",
       "       [3, 4, 5],\n",
       "       [6, 7, 8]])"
      ]
     },
     "execution_count": 9,
     "metadata": {},
     "output_type": "execute_result"
    }
   ],
   "source": [
    "m = np.arange(9).reshape((3,3))\n",
    "m"
   ]
  },
  {
   "cell_type": "code",
   "execution_count": 10,
   "id": "b2c5ac25-0ab2-4a53-a9a7-c9ba1d921aa8",
   "metadata": {},
   "outputs": [],
   "source": [
    "satir = np.array([0,1])\n",
    "sutun = np.array([1,2])"
   ]
  },
  {
   "cell_type": "code",
   "execution_count": 11,
   "id": "c3930de9-8626-47c9-8924-8a5411247ed7",
   "metadata": {},
   "outputs": [
    {
     "data": {
      "text/plain": [
       "array([1, 5])"
      ]
     },
     "execution_count": 11,
     "metadata": {},
     "output_type": "execute_result"
    }
   ],
   "source": [
    "m[satir,sutun]"
   ]
  },
  {
   "cell_type": "code",
   "execution_count": null,
   "id": "6de74af0-f4b0-460e-9e5a-4d9369a50502",
   "metadata": {},
   "outputs": [],
   "source": [
    "#basit index ile fancy index"
   ]
  },
  {
   "cell_type": "code",
   "execution_count": 12,
   "id": "f90b6b01-0a06-484c-a584-10aac5d72769",
   "metadata": {},
   "outputs": [
    {
     "data": {
      "text/plain": [
       "array([[0, 1, 2],\n",
       "       [3, 4, 5],\n",
       "       [6, 7, 8]])"
      ]
     },
     "execution_count": 12,
     "metadata": {},
     "output_type": "execute_result"
    }
   ],
   "source": [
    "m"
   ]
  },
  {
   "cell_type": "code",
   "execution_count": 13,
   "id": "a8c9eace-ff4b-46df-81c7-07eb648e273f",
   "metadata": {},
   "outputs": [
    {
     "data": {
      "text/plain": [
       "array([1, 2])"
      ]
     },
     "execution_count": 13,
     "metadata": {},
     "output_type": "execute_result"
    }
   ],
   "source": [
    "m[0, [1,2]]"
   ]
  },
  {
   "cell_type": "code",
   "execution_count": 16,
   "id": "43128302-0b6d-4b3e-87ea-10c74838cbe4",
   "metadata": {},
   "outputs": [],
   "source": [
    "# scile ile fancy"
   ]
  },
  {
   "cell_type": "code",
   "execution_count": 15,
   "id": "819a4d53-eb48-4e53-92bc-4c7fb6e7eeb2",
   "metadata": {},
   "outputs": [
    {
     "data": {
      "text/plain": [
       "array([[1, 2],\n",
       "       [4, 5],\n",
       "       [7, 8]])"
      ]
     },
     "execution_count": 15,
     "metadata": {},
     "output_type": "execute_result"
    }
   ],
   "source": [
    "m[0:,[1,2]]"
   ]
  },
  {
   "cell_type": "markdown",
   "id": "9d7d8adb-9077-4351-9d4d-5b12f8eb1b8a",
   "metadata": {},
   "source": [
    "# Koşullu Eleman İşlemleri"
   ]
  },
  {
   "cell_type": "code",
   "execution_count": 17,
   "id": "af23e186-9224-40da-9037-e039ce3da53d",
   "metadata": {},
   "outputs": [],
   "source": [
    "v = np.array([1,2,3,4,5])"
   ]
  },
  {
   "cell_type": "code",
   "execution_count": 18,
   "id": "2d08cadd-ad92-4b03-afec-fda60bceb108",
   "metadata": {},
   "outputs": [
    {
     "data": {
      "text/plain": [
       "array([False, False, False, False, False])"
      ]
     },
     "execution_count": 18,
     "metadata": {},
     "output_type": "execute_result"
    }
   ],
   "source": [
    "v > 5"
   ]
  },
  {
   "cell_type": "code",
   "execution_count": 19,
   "id": "0145990f-1451-42d5-b241-7a5f089d0bf1",
   "metadata": {},
   "outputs": [
    {
     "data": {
      "text/plain": [
       "array([1, 2, 3, 4])"
      ]
     },
     "execution_count": 19,
     "metadata": {},
     "output_type": "execute_result"
    }
   ],
   "source": [
    "v[v<5]"
   ]
  },
  {
   "cell_type": "code",
   "execution_count": 20,
   "id": "b6370853-d57f-4165-b310-4ca1c6b630b6",
   "metadata": {},
   "outputs": [
    {
     "data": {
      "text/plain": [
       "array([5])"
      ]
     },
     "execution_count": 20,
     "metadata": {},
     "output_type": "execute_result"
    }
   ],
   "source": [
    "v[v==5]"
   ]
  },
  {
   "cell_type": "code",
   "execution_count": 21,
   "id": "ca90125b-ab52-49ed-a147-6decbccd26b5",
   "metadata": {},
   "outputs": [
    {
     "data": {
      "text/plain": [
       "array([1, 2, 3, 4])"
      ]
     },
     "execution_count": 21,
     "metadata": {},
     "output_type": "execute_result"
    }
   ],
   "source": [
    "v[v!=5]"
   ]
  },
  {
   "cell_type": "markdown",
   "id": "cea27245-b6b1-4fb4-8df7-c9d08e6336e1",
   "metadata": {},
   "source": [
    "# Matematiksel İşlemler "
   ]
  },
  {
   "cell_type": "code",
   "execution_count": null,
   "id": "fec517ea-1aa9-4a75-ab97-04935bf0f564",
   "metadata": {},
   "outputs": [],
   "source": [
    "# ufunc"
   ]
  },
  {
   "cell_type": "code",
   "execution_count": 22,
   "id": "73358437-7db4-4929-b6bd-30d6ee6a3831",
   "metadata": {},
   "outputs": [
    {
     "data": {
      "text/plain": [
       "array([0, 1, 2, 3, 4])"
      ]
     },
     "execution_count": 22,
     "metadata": {},
     "output_type": "execute_result"
    }
   ],
   "source": [
    "v - 1 "
   ]
  },
  {
   "cell_type": "code",
   "execution_count": 23,
   "id": "f74863a9-33fa-440b-85c3-01c194d741ba",
   "metadata": {},
   "outputs": [
    {
     "data": {
      "text/plain": [
       "array([10, 20, 30, 40, 50])"
      ]
     },
     "execution_count": 23,
     "metadata": {},
     "output_type": "execute_result"
    }
   ],
   "source": [
    "v * 10"
   ]
  },
  {
   "cell_type": "code",
   "execution_count": 24,
   "id": "9821fb60-12ca-4926-b4c7-4e382a37176a",
   "metadata": {},
   "outputs": [
    {
     "data": {
      "text/plain": [
       "array([0.1, 0.2, 0.3, 0.4, 0.5])"
      ]
     },
     "execution_count": 24,
     "metadata": {},
     "output_type": "execute_result"
    }
   ],
   "source": [
    "v / 10"
   ]
  },
  {
   "cell_type": "code",
   "execution_count": 26,
   "id": "de9266f0-86e1-44ef-9f1f-2f141ebf62a4",
   "metadata": {},
   "outputs": [
    {
     "data": {
      "text/plain": [
       "array([1., 3., 5., 7., 9.])"
      ]
     },
     "execution_count": 26,
     "metadata": {},
     "output_type": "execute_result"
    }
   ],
   "source": [
    "v*10/5 -1"
   ]
  },
  {
   "cell_type": "code",
   "execution_count": 27,
   "id": "a8558821-2146-44e9-9f1b-1b388039ed28",
   "metadata": {},
   "outputs": [
    {
     "data": {
      "text/plain": [
       "array([0, 1, 2, 3, 4])"
      ]
     },
     "execution_count": 27,
     "metadata": {},
     "output_type": "execute_result"
    }
   ],
   "source": [
    "np.subtract(v,1)"
   ]
  },
  {
   "cell_type": "code",
   "execution_count": 28,
   "id": "54d29886-6ec4-4610-93cf-6cb02d65bcb6",
   "metadata": {},
   "outputs": [
    {
     "data": {
      "text/plain": [
       "array([2, 3, 4, 5, 6])"
      ]
     },
     "execution_count": 28,
     "metadata": {},
     "output_type": "execute_result"
    }
   ],
   "source": [
    "np.add(v,1)"
   ]
  },
  {
   "cell_type": "code",
   "execution_count": 29,
   "id": "58e15a0c-c1ee-4fc4-a5a6-138ca4fd398f",
   "metadata": {},
   "outputs": [
    {
     "data": {
      "text/plain": [
       "array([ 4,  8, 12, 16, 20])"
      ]
     },
     "execution_count": 29,
     "metadata": {},
     "output_type": "execute_result"
    }
   ],
   "source": [
    "np.multiply(v,4)"
   ]
  },
  {
   "cell_type": "code",
   "execution_count": 30,
   "id": "6c32bba8-4bf8-4e49-8682-6d370ad69ba4",
   "metadata": {},
   "outputs": [
    {
     "data": {
      "text/plain": [
       "array([ 1,  4,  9, 16, 25], dtype=int32)"
      ]
     },
     "execution_count": 30,
     "metadata": {},
     "output_type": "execute_result"
    }
   ],
   "source": [
    "v**2"
   ]
  },
  {
   "cell_type": "code",
   "execution_count": 31,
   "id": "07bb7589-4ea9-4702-a815-9f83f424969a",
   "metadata": {},
   "outputs": [
    {
     "data": {
      "text/plain": [
       "array([  1,   8,  27,  64, 125], dtype=int32)"
      ]
     },
     "execution_count": 31,
     "metadata": {},
     "output_type": "execute_result"
    }
   ],
   "source": [
    "np.power(v,3)"
   ]
  },
  {
   "cell_type": "code",
   "execution_count": 32,
   "id": "9c23657d-af0c-4461-916b-69d4541dae54",
   "metadata": {},
   "outputs": [
    {
     "data": {
      "text/plain": [
       "array([1, 0, 1, 0, 1], dtype=int32)"
      ]
     },
     "execution_count": 32,
     "metadata": {},
     "output_type": "execute_result"
    }
   ],
   "source": [
    "v % 2"
   ]
  },
  {
   "cell_type": "code",
   "execution_count": 33,
   "id": "629f992f-c553-46ac-8db3-ec6351cf76c2",
   "metadata": {},
   "outputs": [
    {
     "data": {
      "text/plain": [
       "array([1, 0, 1, 0, 1], dtype=int32)"
      ]
     },
     "execution_count": 33,
     "metadata": {},
     "output_type": "execute_result"
    }
   ],
   "source": [
    "np.mod(v, 2)"
   ]
  },
  {
   "cell_type": "code",
   "execution_count": 34,
   "id": "82e05b56-bf89-4595-9274-88738a351cfe",
   "metadata": {},
   "outputs": [
    {
     "data": {
      "text/plain": [
       "array([3])"
      ]
     },
     "execution_count": 34,
     "metadata": {},
     "output_type": "execute_result"
    }
   ],
   "source": [
    "np.absolute(np.array([-3]))"
   ]
  },
  {
   "cell_type": "code",
   "execution_count": 35,
   "id": "0db2582e-3c9b-4948-8f72-ad664325d0b7",
   "metadata": {},
   "outputs": [
    {
     "data": {
      "text/plain": [
       "0.9589157234143065"
      ]
     },
     "execution_count": 35,
     "metadata": {},
     "output_type": "execute_result"
    }
   ],
   "source": [
    "np.sin(360)"
   ]
  },
  {
   "cell_type": "code",
   "execution_count": 36,
   "id": "6fe6185b-471a-4705-9ca9-3665c57fc47b",
   "metadata": {},
   "outputs": [
    {
     "data": {
      "text/plain": [
       "-0.2836910914865273"
      ]
     },
     "execution_count": 36,
     "metadata": {},
     "output_type": "execute_result"
    }
   ],
   "source": [
    "np.cos(360)"
   ]
  },
  {
   "cell_type": "code",
   "execution_count": 37,
   "id": "93f1b20d-cfa2-4ae9-a242-3939c65f4116",
   "metadata": {},
   "outputs": [],
   "source": [
    "v = np.array([1,2,3])"
   ]
  },
  {
   "cell_type": "code",
   "execution_count": 38,
   "id": "b5f0ce80-7e83-4e48-abc1-77aa871b8ac3",
   "metadata": {},
   "outputs": [
    {
     "data": {
      "text/plain": [
       "array([0.        , 0.69314718, 1.09861229])"
      ]
     },
     "execution_count": 38,
     "metadata": {},
     "output_type": "execute_result"
    }
   ],
   "source": [
    "np.log(v)"
   ]
  },
  {
   "cell_type": "code",
   "execution_count": 40,
   "id": "8ac775ff-b6c2-473a-bffb-eca40187ac37",
   "metadata": {},
   "outputs": [
    {
     "data": {
      "text/plain": [
       "array([0.       , 1.       , 1.5849625])"
      ]
     },
     "execution_count": 40,
     "metadata": {},
     "output_type": "execute_result"
    }
   ],
   "source": [
    "np.log2(v)"
   ]
  },
  {
   "cell_type": "code",
   "execution_count": 41,
   "id": "6b9b871b-7e11-4898-b58b-3659dd2dd463",
   "metadata": {},
   "outputs": [
    {
     "data": {
      "text/plain": [
       "array([0.        , 0.30103   , 0.47712125])"
      ]
     },
     "execution_count": 41,
     "metadata": {},
     "output_type": "execute_result"
    }
   ],
   "source": [
    "np.log10(v)"
   ]
  },
  {
   "cell_type": "code",
   "execution_count": 42,
   "id": "21c087bd-5877-4e6d-9b21-481b3fa6825d",
   "metadata": {},
   "outputs": [],
   "source": [
    "#cheat sheet googleda arama yapmak için çok önemli"
   ]
  },
  {
   "cell_type": "markdown",
   "id": "3533770b-f43c-4fc1-b3d7-4b7493166652",
   "metadata": {},
   "source": [
    "# Numpy ile İki Bilinmeyenli Denklem Çözümü"
   ]
  },
  {
   "cell_type": "markdown",
   "id": "42f27017-9240-4dc3-b2ce-690e0c3a84e6",
   "metadata": {},
   "source": [
    "**5*x0 + x1 = 12**"
   ]
  },
  {
   "cell_type": "markdown",
   "id": "d2dcd4f1-7719-463e-8851-0bf1d51f76d6",
   "metadata": {},
   "source": [
    "**x0 + 3*x1 = 10**"
   ]
  },
  {
   "cell_type": "code",
   "execution_count": 44,
   "id": "ef1ea450-c396-438e-9268-af7f7ce0f657",
   "metadata": {},
   "outputs": [],
   "source": [
    "a = np.array([[5,1], [1,3]])\n",
    "b = np.array([12,10])"
   ]
  },
  {
   "cell_type": "code",
   "execution_count": 46,
   "id": "21149852-2cf6-4009-a439-68b4719fe20e",
   "metadata": {},
   "outputs": [
    {
     "data": {
      "text/plain": [
       "array([1.85714286, 2.71428571])"
      ]
     },
     "execution_count": 46,
     "metadata": {},
     "output_type": "execute_result"
    }
   ],
   "source": [
    "x = np.linalg.solve(a,b)\n",
    "x"
   ]
  }
 ],
 "metadata": {
  "kernelspec": {
   "display_name": "Python 3 (ipykernel)",
   "language": "python",
   "name": "python3"
  },
  "language_info": {
   "codemirror_mode": {
    "name": "ipython",
    "version": 3
   },
   "file_extension": ".py",
   "mimetype": "text/x-python",
   "name": "python",
   "nbconvert_exporter": "python",
   "pygments_lexer": "ipython3",
   "version": "3.10.0"
  }
 },
 "nbformat": 4,
 "nbformat_minor": 5
}
